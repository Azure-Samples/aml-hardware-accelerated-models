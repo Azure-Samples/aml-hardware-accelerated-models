{
 "cells": [
  {
   "cell_type": "markdown",
   "metadata": {},
   "source": [
    "Copyright (c) Microsoft Corporation. All rights reserved.\n",
    "\n",
    "Licensed under the MIT License."
   ]
  },
  {
   "cell_type": "markdown",
   "metadata": {},
   "source": [
    "# Deploy Azure ML Hardware Accelerated Models (HAM) to Databox Edge Machine - Using Azure CLI\n",
    "This notebook will walk through creating and deploying a sample client that can test inferencing of an Azure ML HW Accelerated Model. The sample client image contains a script which uses the AzureML SDK to inference and IoT Hub/Device SDK to send messages to your IoT Hub.\n",
    "\n",
    "This notebook will walk you through the following:\n",
    "\n",
    "* [Install dependencies](#installation)\n",
    "* [Configure your Azure CLI environment](#configuration)\n",
    "* [Choose image to deploy](#choose-your-model)\n",
    "* [Create Sample Client image](#sample-client)\n",
    "* [Deploy modules using CLI](#deploy)\n",
    "* [Receive IoT Hub Messages using Event Monitor](#iothub-messages)\n",
    "* [Stop sample client module](#stop-module)\n",
    " \n",
    "## Pre-requisites\n",
    "* An IoT Edge Device (specifically, the Data Box Edge machine with Compute VM enabled)\n",
    "    * Follow [steps 1 - 5a](https://docs.microsoft.com/en-us/azure/databox-online/data-box-edge-deploy-prep) to set up your Data Box Edge machine and enable the Linux Compute VM and an associated IoT Hub. This IoT Hub will deploy the AccelContainerImage to the Compute VM. **Note:** In order to use the Azure ML SDK to deploy your model to your IoT Hub, you must create your Data Box Edge resource in the same subscription as your Azure ML Workspace.\n",
    "* An Azure ML ContainerImage or AccelContainerImage successfully created in your Workspace.\n",
    "    * For an AccelContainerImage, you can follow [this notebook](https://github.com/Azure/MachineLearningNotebooks/blob/master/how-to-use-azureml/deployment/accelerated-models/accelerated-models-quickstart.ipynb) through Step 5."
   ]
  },
  {
   "cell_type": "markdown",
   "metadata": {},
   "source": [
    "<a id='installation'></a>\n",
    "## Install Azure CLI, IoT extension, and Docker\n",
    "The following code will:\n",
    "- install Azure CLI and [Azure IoT CLI extension](https://github.com/Azure/azure-iot-cli-extension)\n",
    "- install Docker\n",
    "- sign into your Azure account using browser login"
   ]
  },
  {
   "cell_type": "code",
   "execution_count": null,
   "metadata": {},
   "outputs": [],
   "source": [
    "%%bash\n",
    "pip install azure-cli # Install Azure CLI\n",
    "az extension add --name azure-cli-iot-ext # Add IoT CLI extension\n",
    "pip install -U jupyter_console # Fix Jupyter dependencies overridden by Azure CLI installation\n",
    "pip install docker # Install Docker\n",
    "az login # Log into Azure account"
   ]
  },
  {
   "cell_type": "markdown",
   "metadata": {},
   "source": [
    "<a id='configuration'></a>\n",
    "## Configure default subscription and resource group"
   ]
  },
  {
   "cell_type": "markdown",
   "metadata": {},
   "source": [
    "Next, we will set your default subscription and resource group for accessing your IoT Hub, assuming your IoT Hub is in the same subscription and resource group as your AzureML Workspace. You might need to customize these commands if your IoT Hub is in a different subscription or resource group."
   ]
  },
  {
   "cell_type": "code",
   "execution_count": null,
   "metadata": {},
   "outputs": [],
   "source": [
    "from azureml.core import Workspace\n",
    "import os\n",
    "\n",
    "ws = Workspace.from_config()\n",
    "print(ws.name, ws.resource_group, ws.location, ws.subscription_id, sep = '\\n')\n",
    "os.environ[\"AZ_SUBSCRIPTION_ID\"] = ws.subscription_id\n",
    "os.environ[\"AZ_RESOURCE_GROUP\"] = ws.resource_group"
   ]
  },
  {
   "cell_type": "code",
   "execution_count": null,
   "metadata": {},
   "outputs": [],
   "source": [
    "%%bash\n",
    "az account set --subscription $AZ_SUBSCRIPTION_ID\n",
    "az configure --defaults group=$AZ_RESOURCE_GROUP"
   ]
  },
  {
   "cell_type": "markdown",
   "metadata": {},
   "source": [
    "<a id=\"choose-your-model\"></a>\n",
    "## Choose the Azure ML HW Accelerated Model"
   ]
  },
  {
   "cell_type": "markdown",
   "metadata": {},
   "source": [
    "List all Images in your Azure ML Workspace."
   ]
  },
  {
   "cell_type": "code",
   "execution_count": null,
   "metadata": {},
   "outputs": [],
   "source": [
    "from azureml.core.image import Image\n",
    "for i in Image.list(workspace = ws):\n",
    "    print('{}'.format(i.image_location))"
   ]
  },
  {
   "cell_type": "markdown",
   "metadata": {},
   "source": [
    "#### Choose a converted image you'd like to deploy by copying the ACR path below. \n",
    "For example, \"workspacename1234.azurecr.io/resnet50.1.brainwaveonnx-image:1\"."
   ]
  },
  {
   "cell_type": "code",
   "execution_count": null,
   "metadata": {},
   "outputs": [],
   "source": [
    "os.environ[\"FPGA_IMAGE_ACR\"] = \"COPY HERE\"\n",
    "os.environ[\"ACR_NAME\"] = os.environ[\"FPGA_IMAGE_ACR\"].split(\".\")[0]\n",
    "\n",
    "print(\"You are choosing to use the Docker image {} in ACR {}.\".format(os.environ[\"FPGA_IMAGE_ACR\"], os.environ[\"ACR_NAME\"]))"
   ]
  },
  {
   "cell_type": "markdown",
   "metadata": {},
   "source": [
    "<a id='sample-client'></a>\n",
    "## Create Sample Client Image"
   ]
  },
  {
   "cell_type": "markdown",
   "metadata": {},
   "source": [
    "### Provide IoT Hub and IoT Edge Device information\n",
    "When setting up your Compute VM for Databox Edge, you created an IoT Hub and Databox Edge automatically created an IoT Edge device registered to your Compute VM. In order to receive messages in your IoT Hub, copy in your IoT Hub Name and IoT Edge Device name to retrieve your connection string."
   ]
  },
  {
   "cell_type": "code",
   "execution_count": null,
   "metadata": {},
   "outputs": [],
   "source": [
    "%%bash\n",
    "# List all iothubs associated with this resource group\n",
    "az iot hub list --output table"
   ]
  },
  {
   "cell_type": "markdown",
   "metadata": {},
   "source": [
    "#### Copy your IoT Hub name below."
   ]
  },
  {
   "cell_type": "code",
   "execution_count": null,
   "metadata": {},
   "outputs": [],
   "source": [
    "# Update IoT Hub and Edge Device information\n",
    "os.environ[\"HUB_NAME\"] = \"COPY HERE\"\n",
    "# Databox Edge automatically uses your hub name appended with edge as your device name\n",
    "os.environ[\"DEVICE_ID\"] = \"{}-edge\".format(os.environ[\"HUB_NAME\"])\n",
    "\n",
    "os.environ[\"edgeAgent\"] = \"$edgeAgent\"\n",
    "os.environ[\"edgeHub\"] = \"$edgeHub\"\n",
    "os.environ[\"FILE_PATH\"]=\"./deployment.json\""
   ]
  },
  {
   "cell_type": "markdown",
   "metadata": {},
   "source": [
    "### Build sample client image and push to your ACR"
   ]
  },
  {
   "cell_type": "markdown",
   "metadata": {},
   "source": [
    "The Docker image built from the /sample-client directory will work with the ResNet50 image created in Quickstart. To create a sample client that works with the Image created from transfer learning, update the line to below. The /sample-client uses ImageNet pictures for inferencing; the /sample-client-tl handles the response differently and uses images of cats and dogs. \n",
    "\n",
    "```\n",
    "os.environ[\"CLIENT_APP_NAME\"] = \"sample-client-tl\"\n",
    "```"
   ]
  },
  {
   "cell_type": "code",
   "execution_count": null,
   "metadata": {},
   "outputs": [],
   "source": [
    "# The default sample client works with the Docker image created from Quickstart\n",
    "os.environ[\"CLIENT_APP_NAME\"] = \"sample-client\""
   ]
  },
  {
   "cell_type": "code",
   "execution_count": null,
   "metadata": {},
   "outputs": [],
   "source": [
    "%%bash\n",
    "az acr login --name $ACR_NAME\n",
    "docker build -t $ACR_NAME.azurecr.io/$CLIENT_APP_NAME -f ./Dockerfile ./$CLIENT_APP_NAME\n",
    "docker push $ACR_NAME.azurecr.io/$CLIENT_APP_NAME"
   ]
  },
  {
   "cell_type": "markdown",
   "metadata": {},
   "source": [
    "<a id='deploy'></a>\n",
    "## Deploy to Databox Edge Machine Using CLI\n",
    "Here we will utilize the Azure CLI and a pre-defined deployment manifest template which will specify how to deploy your IoT Hub modules. \n",
    "\n",
    "When the Azure ML module first deploys, it will take a few minutes to flash the FPGA with the correct firmware for your model type. While this is happening, the sample client module will output that it is waiting for the flashing to finish.\n",
    "\n",
    "Resources: \n",
    "- [az iot edge set-modules](https://docs.microsoft.com/en-us/azure/iot-edge/how-to-deploy-modules-cli)\n",
    "- [az acr credential show](https://docs.microsoft.com/en-us/cli/azure/acr/credential?view=azure-cli-latest#az-acr-credential-show)\n",
    "- [az iot hub device-identity show-connection-string](https://docs.microsoft.com/en-us/cli/azure/ext/azure-cli-iot-ext/iot/hub/device-identity?view=azure-cli-latest#ext-azure-cli-iot-ext-az-iot-hub-device-identity-show-connection-string)"
   ]
  },
  {
   "cell_type": "markdown",
   "metadata": {},
   "source": [
    "#### Configure AzureML module\n",
    "By default, the below is included in the generated deployment.json. You can modify it directly in that file if you want to, for example for a CPU image.\n",
    "```\n",
    "{\n",
    "  \"HostConfig\": {\n",
    "    \"Privileged\": true,\n",
    "    \"PortBindings\": {\n",
    "      \"50051/tcp\": [\n",
    "        {\n",
    "          \"HostPort\": \"50051\"\n",
    "        }\n",
    "      ]\n",
    "    },\n",
    "    \"Devices\": [\n",
    "      {\n",
    "        \"PathOnHost\": \"/dev/catapult0\",\n",
    "        \"PathInContainer\": \"/dev/catapult0\"\n",
    "      },\n",
    "      {\n",
    "        \"PathOnHost\": \"/dev/catapult1\",\n",
    "        \"PathInContainer\": \"/dev/catapult1\"\n",
    "      }\n",
    "    ]\n",
    "  }\n",
    "}\n",
    "```"
   ]
  },
  {
   "cell_type": "markdown",
   "metadata": {},
   "source": [
    "#### Configure Sample Client module\n",
    "By default, the below is included in the generated deployment.json. You can modify it directly in that file if you want to add other parameters.\n",
    "```\n",
    "{\n",
    "  \"Tty\": true,\n",
    "  \"Cmd\": [\n",
    "    \"--input-tensors\",\n",
    "    \"Placeholder:0\",\n",
    "    \"--output-tensors\",\n",
    "    \"classifier/resnet_v1_50/predictions/Softmax:0\",\n",
    "    \"--wait\",\n",
    "    \"10\"\n",
    "  ]\n",
    "}\n",
    "```\n",
    "\n",
    "If you just want to update the input and output tensor names for models other than resnet50 from Quickstart, run the cell below.\n",
    "\n",
    "For example, the transfer learning notebook would use the same input tensor name and change the output tensor name.\n",
    "```\n",
    "os.environ[\"OUTPUT_TENSOR\"] = \"classifier_output/Softmax:0\"\n",
    "```"
   ]
  },
  {
   "cell_type": "code",
   "execution_count": null,
   "metadata": {},
   "outputs": [],
   "source": [
    "os.environ[\"INPUT_TENSOR\"] = \"Placeholder:0\"\n",
    "os.environ[\"OUTPUT_TENSOR\"] = \"classifier/resnet_v1_50/predictions/Softmax:0\""
   ]
  },
  {
   "cell_type": "markdown",
   "metadata": {},
   "source": [
    "The below code will replace all the values we've set previously in a newly generated file called deployment.json."
   ]
  },
  {
   "cell_type": "code",
   "execution_count": null,
   "metadata": {},
   "outputs": [],
   "source": [
    "%%bash\n",
    "export ACR_PASSWORD=$(az acr credential show -n $ACR_NAME --query passwords[0].value | grep -oP '\"\\K[^\"\\047]+(?=[\"\\047])')\n",
    "export DEVICE_CONNECTION_STRING=$(az iot hub device-identity show-connection-string --device-id $DEVICE_ID --hub-name $HUB_NAME | grep -oP '(?<=\\\")HostName(.*)(?=\\\")')\n",
    "export TEMPLATE_PATH=\"./deployment_template.json\"\n",
    "export HOST_STATUS=\"running\"\n",
    "export CLIENT_STATUS=\"running\"\n",
    "\n",
    "# Replace all environment variables in deployment.json\n",
    "file=$(<$TEMPLATE_PATH)\n",
    "echo \"$file\" | envsubst > $FILE_PATH"
   ]
  },
  {
   "cell_type": "markdown",
   "metadata": {},
   "source": [
    "Now we use the Azure IoT CLI to set the deployment manifest for your Data Box Edge IoT Edge device."
   ]
  },
  {
   "cell_type": "code",
   "execution_count": null,
   "metadata": {
    "scrolled": true
   },
   "outputs": [],
   "source": [
    "%%bash\n",
    "# This command sets the deployment.json of your device, which includes the settings for both modules\n",
    "az iot edge set-modules --device-id $DEVICE_ID --hub-name $HUB_NAME --content $FILE_PATH"
   ]
  },
  {
   "cell_type": "markdown",
   "metadata": {},
   "source": [
    "<a id='iothub-messages'></a>\n",
    "## Receive Predictions from IoT Hub\n",
    "The code below uses the CLI to receive messages from IoT Hub. To use the IoT Service Client SDK, read more here: https://docs.microsoft.com/en-us/azure/iot-hub/iot-hub-devguide-messages-read-builtin"
   ]
  },
  {
   "cell_type": "code",
   "execution_count": null,
   "metadata": {},
   "outputs": [],
   "source": [
    "%%bash\n",
    "echo \"Copy the following command into a bash window:\"\n",
    "echo \"\"\n",
    "echo \"az iot hub monitor-events --hub-name $HUB_NAME --device-id $DEVICE_ID --properties app\""
   ]
  },
  {
   "cell_type": "markdown",
   "metadata": {},
   "source": [
    "<a id='stop-module'></a>\n",
    "## Stop Sample Client Module\n",
    "We can update the desired status of the IoT Hub modules. Here, we will update the deployment.json to specify that the sample client module should be \"stopped\". See the [README.md](./README.md) for more information about how to manipulate the sample client module."
   ]
  },
  {
   "cell_type": "code",
   "execution_count": null,
   "metadata": {},
   "outputs": [],
   "source": [
    "%%bash\n",
    "export ACR_PASSWORD=$(az acr credential show -n $ACR_NAME --query passwords[0].value | grep -oP '\"\\K[^\"\\047]+(?=[\"\\047])')\n",
    "export DEVICE_CONNECTION_STRING=$(az iot hub device-identity show-connection-string --device-id $DEVICE_ID --hub-name $HUB_NAME | grep -oP '(?<=\\\")HostName(.*)(?=\\\")')\n",
    "export TEMPLATE_PATH=\"./deployment_template.json\"\n",
    "export FILE_PATH=\"./deployment.json\"\n",
    "export HOST_STATUS=\"running\"\n",
    "export CLIENT_STATUS=\"stopped\"\n",
    "\n",
    "# Replace all environment variables in deployment.json\n",
    "file=$(<$TEMPLATE_PATH)\n",
    "echo \"$file\" | envsubst > $FILE_PATH\n",
    "\n",
    "# This command sets the deployment.json of your device, which includes the settings for both modules\n",
    "az iot edge set-modules --device-id $DEVICE_ID --hub-name $HUB_NAME --content $FILE_PATH"
   ]
  }
 ],
 "metadata": {
  "authors": [
   {
    "name": "paledger"
   }
  ],
  "kernelspec": {
   "display_name": "Python 3",
   "language": "python",
   "name": "python3"
  },
  "language_info": {
   "codemirror_mode": {
    "name": "ipython",
    "version": 3
   },
   "file_extension": ".py",
   "mimetype": "text/x-python",
   "name": "python",
   "nbconvert_exporter": "python",
   "pygments_lexer": "ipython3",
   "version": "3.5.6"
  }
 },
 "nbformat": 4,
 "nbformat_minor": 2
}
