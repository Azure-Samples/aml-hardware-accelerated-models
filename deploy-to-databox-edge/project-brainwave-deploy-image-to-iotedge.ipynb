{
 "cells": [
  {
   "cell_type": "markdown",
   "metadata": {},
   "source": [
    "Copyright (c) Microsoft Corporation. All rights reserved.\n",
    "\n",
    "Licensed under the MIT License."
   ]
  },
  {
   "cell_type": "markdown",
   "metadata": {},
   "source": [
    "# Deploy AzureML FPGA Image to Databox Edge Machine\n",
    "This notebook will walk through creating and deploying a sample client that can test inferencing of an AzureML FPGA Image. The sample client image contains a script which uses the AzureML SDK to inference and IoT Hub/Device SDK to send messages to your IoT Hub. \n",
    "\n",
    "We will use Docker to build the sample client image and push to the Azure Container Registry (ACR) associated with your AzureML Workspace, then use IoT CLI extension to deploy your AzureML Brainwave Image and sample client image to your Databox Edge machine.\n",
    "\n",
    " \n",
    "## Pre-requisites\n",
    "- You must first have created an AzureML BrainwaveContainerImage using one of the AzureML Brainwave Private Preview notebooks. If you have not, please do so.\n",
    "    - [Quickstart](https://github.com/Microsoft/aml-fpga-preview/blob/master/notebooks/project-brainwave-quickstart.ipynb)\n",
    "    - [Custom Weights](https://github.com/Microsoft/aml-fpga-preview/blob/master/notebooks/project-brainwave-custom-weights.ipynb)\n",
    "    - [Transfer Learning](https://github.com/Microsoft/aml-fpga-preview/blob/master/notebooks/project-brainwave-transfer-learning.ipynb) \n",
    "- Follow [these instructions](https://docs.microsoft.com/en-us/azure/databox-online/data-box-edge-deploy-configure-compute) to enable the Linux Compute VM on your Databox Edge Machine."
   ]
  },
  {
   "cell_type": "markdown",
   "metadata": {},
   "source": [
    "## Install Azure CLI, IoT extension, and Docker\n",
    "The following code will:\n",
    "- install Azure CLI and Azure IoT CLI extension: https://github.com/Azure/azure-iot-cli-extension\n",
    "- install Docker\n",
    "- sign into your Azure account using browser login"
   ]
  },
  {
   "cell_type": "code",
   "execution_count": null,
   "metadata": {},
   "outputs": [],
   "source": [
    "%%bash\n",
    "pip install azure-cli # Install Azure CLI\n",
    "az extension add --name azure-cli-iot-ext # Add IoT CLI extension\n",
    "pip install -U jupyter_console # Fix Jupyter dependencies overridden by Azure CLI installation\n",
    "pip install docker # Install Docker\n",
    "az login # Log into Azure account"
   ]
  },
  {
   "cell_type": "markdown",
   "metadata": {},
   "source": [
    "## Set default subscription and resource group"
   ]
  },
  {
   "cell_type": "markdown",
   "metadata": {},
   "source": [
    "Next, we will set your default subscription and resource group for accessing your IoT Hub, assuming your IoT Hub is in the same subscription and resource group as your AzureML Workspace. You might need to customize these commands if your IoT Hub is in a different subscription or resource group."
   ]
  },
  {
   "cell_type": "code",
   "execution_count": null,
   "metadata": {},
   "outputs": [],
   "source": [
    "from azureml.core import Workspace\n",
    "import os\n",
    "\n",
    "ws = Workspace.from_config()\n",
    "print(ws.name, ws.resource_group, ws.location, ws.subscription_id, sep = '\\n')\n",
    "os.environ[\"AZ_SUBSCRIPTION_ID\"] = ws.subscription_id\n",
    "os.environ[\"AZ_RESOURCE_GROUP\"] = ws.resource_group"
   ]
  },
  {
   "cell_type": "code",
   "execution_count": null,
   "metadata": {},
   "outputs": [],
   "source": [
    "%%bash\n",
    "az account set --subscription $AZ_SUBSCRIPTION_ID\n",
    "az configure --defaults group=$AZ_RESOURCE_GROUP"
   ]
  },
  {
   "cell_type": "markdown",
   "metadata": {},
   "source": [
    "## Choose the AzureML FPGA Image"
   ]
  },
  {
   "cell_type": "markdown",
   "metadata": {},
   "source": [
    "List all Images in your AzureML Workspace."
   ]
  },
  {
   "cell_type": "code",
   "execution_count": null,
   "metadata": {},
   "outputs": [],
   "source": [
    "from azureml.core.image import Image\n",
    "for i in Image.list(workspace = ws):\n",
    "    print('{}'.format(i.image_location))"
   ]
  },
  {
   "cell_type": "markdown",
   "metadata": {},
   "source": [
    "Choose a converted image you'd like to deploy by copying the entire ACR path below. For example, \"workspacename1234.azurecr.io/resnet50.1.brainwaveonnx-image:1\"."
   ]
  },
  {
   "cell_type": "code",
   "execution_count": null,
   "metadata": {},
   "outputs": [],
   "source": [
    "os.environ[\"FPGA_IMAGE_ACR\"] = \"COPY ACR PATH HERE\"\n",
    "os.environ[\"ACR_NAME\"] = os.environ[\"FPGA_IMAGE_ACR\"].split(\".\")[0]\n",
    "\n",
    "print(\"You are choosing to use the Docker image {} in ACR {}.\".format(os.environ[\"FPGA_IMAGE_ACR\"], os.environ[\"ACR_NAME\"]))"
   ]
  },
  {
   "cell_type": "markdown",
   "metadata": {},
   "source": [
    "## Create Sample Client Image"
   ]
  },
  {
   "cell_type": "markdown",
   "metadata": {},
   "source": [
    "### Provide IoT Hub and IoT Edge Device information\n",
    "When setting up your Compute VM for Databox Edge, you created an IoT Hub and Databox Edge automatically created an IoT Edge device registered to your Compute VM. In order to receive messages in your IoT Hub, copy in your IoT Hub Name and IoT Edge Device name to retrieve your connection string."
   ]
  },
  {
   "cell_type": "code",
   "execution_count": null,
   "metadata": {},
   "outputs": [],
   "source": [
    "%%bash\n",
    "az iot hub list --output table"
   ]
  },
  {
   "cell_type": "code",
   "execution_count": null,
   "metadata": {},
   "outputs": [],
   "source": [
    "# Update IoT Hub and Edge Device information\n",
    "os.environ[\"HUB_NAME\"] = \"COPY HUB NAME HERE\"\n",
    "# Databox Edge automatically uses your hub name appended with edge as your device name\n",
    "os.environ[\"DEVICE_ID\"] = \"{}-edge\".format(os.environ[\"HUB_NAME\"])\n",
    "\n",
    "os.environ[\"FILE_PATH\"] = \"./iotedge-deployment/deployment.json\"\n",
    "os.environ[\"edgeAgent\"] = \"$edgeAgent\"\n",
    "os.environ[\"edgeHub\"] = \"$edgeHub\""
   ]
  },
  {
   "cell_type": "markdown",
   "metadata": {},
   "source": [
    "### Build sample client image and push to your ACR"
   ]
  },
  {
   "cell_type": "code",
   "execution_count": null,
   "metadata": {},
   "outputs": [],
   "source": [
    "%%bash\n",
    "az acr login --name $ACR_NAME\n",
    "docker build -t $ACR_NAME.azurecr.io/sample-client ./iotedge-deployment/sample-client\n",
    "docker push $ACR_NAME.azurecr.io/sample-client"
   ]
  },
  {
   "cell_type": "markdown",
   "metadata": {},
   "source": [
    "## Deploy to Databox Edge Machine\n",
    "There are two ways to deploy modules to an IoT Edge Device: using the IoT Hub Portal or using the Azure CLI. Here we will utilize the Azure CLI and a pre-defined deployment manifest which will specify how to deploy your IoT Hub modules."
   ]
  },
  {
   "cell_type": "markdown",
   "metadata": {},
   "source": [
    "### 1. Deploy using CLI\n",
    "\n",
    "We will use a deployment.json file which contains all the specifications for IoT Hub host and client module deployment. \n",
    "\n",
    "Resources: \n",
    "- [az iot edge set-modules](https://docs.microsoft.com/en-us/azure/iot-edge/how-to-deploy-modules-cli)\n",
    "- [az acr credential show](https://docs.microsoft.com/en-us/cli/azure/acr/credential?view=azure-cli-latest#az-acr-credential-show)\n",
    "- [az iot hub device-identity show-connection-string](https://docs.microsoft.com/en-us/cli/azure/ext/azure-cli-iot-ext/iot/hub/device-identity?view=azure-cli-latest#ext-azure-cli-iot-ext-az-iot-hub-device-identity-show-connection-string)"
   ]
  },
  {
   "cell_type": "code",
   "execution_count": null,
   "metadata": {},
   "outputs": [],
   "source": [
    "%%bash\n",
    "export ACR_PASSWORD=$(az acr credential show -n $ACR_NAME --query passwords[0].value | grep -oP '\"\\K[^\"\\047]+(?=[\"\\047])')\n",
    "export DEVICE_CONNECTION_STRING=$(az iot hub device-identity show-connection-string --device-id $DEVICE_ID --hub-name $HUB_NAME | grep -oP '(?<=\\\")HostName(.*)(?=\\\")')\n",
    "export TEMPLATE_PATH=\"./iotedge-deployment/deployment_template.json\"\n",
    "\n",
    "# Replace all environment variables in deployment.json\n",
    "file=$(<$TEMPLATE_PATH)\n",
    "echo \"$file\" | envsubst > $FILE_PATH"
   ]
  },
  {
   "cell_type": "code",
   "execution_count": null,
   "metadata": {
    "scrolled": true
   },
   "outputs": [],
   "source": [
    "%%bash\n",
    "# This command sets the deployment.json of your device, which includes the settings for both modules\n",
    "az iot edge set-modules --device-id $DEVICE_ID --hub-name $HUB_NAME --content $FILE_PATH"
   ]
  },
  {
   "cell_type": "markdown",
   "metadata": {},
   "source": [
    "### 2. Using IoT Hub Portal\n",
    "You can also use the IoT Hub Portal to deploy or to check and modify your deployment of the sample client and AzureML container. To specify the Docker container create settings for each module, choose to create an IoT Custom Module and enter the JSON for each module given below into the Create Container Options space.\n",
    "You can read more about deploying using the IoT Hub Portal [here](https://docs.microsoft.com/en-us/azure/iot-edge/how-to-deploy-modules-portal). \n",
    "\n",
    "![Example of IoT Hub Portal Create Container options](./iotedge-deployment/iothub_create_container_options.JPG)\n"
   ]
  },
  {
   "cell_type": "markdown",
   "metadata": {},
   "source": [
    "### AzureML Image Container"
   ]
  },
  {
   "cell_type": "raw",
   "metadata": {},
   "source": [
    "{\n",
    "  \"HostConfig\": {\n",
    "    \"Privileged\": true,\n",
    "    \"PortBindings\": {\n",
    "      \"50051/tcp\": [\n",
    "        {\n",
    "          \"HostPort\": \"50051\"\n",
    "        }\n",
    "      ]\n",
    "    },\n",
    "    \"Devices\": [\n",
    "      {\n",
    "        \"PathOnHost\": \"/dev/catapult0\",\n",
    "        \"PathInContainer\": \"/dev/catapult0\"\n",
    "      },\n",
    "      {\n",
    "        \"PathOnHost\": \"/dev/catapult1\",\n",
    "        \"PathInContainer\": \"/dev/catapult1\"\n",
    "      }\n",
    "    ]\n",
    "  }\n",
    "}"
   ]
  },
  {
   "cell_type": "markdown",
   "metadata": {},
   "source": [
    "### Sample Client"
   ]
  },
  {
   "cell_type": "raw",
   "metadata": {},
   "source": [
    "{\n",
    "  \"Tty\": true\n",
    "}"
   ]
  },
  {
   "cell_type": "markdown",
   "metadata": {},
   "source": [
    "## Receive Predictions from IoT Hub\n",
    "The code below uses the CLI to receive messages from IoT Hub. To use the IoT Service Client SDK, read more here: https://docs.microsoft.com/en-us/azure/iot-hub/iot-hub-devguide-messages-read-builtin"
   ]
  },
  {
   "cell_type": "code",
   "execution_count": null,
   "metadata": {},
   "outputs": [],
   "source": [
    "%%bash\n",
    "echo $HUB_NAME\n",
    "echo $DEVICE_ID"
   ]
  },
  {
   "cell_type": "markdown",
   "metadata": {},
   "source": [
    "#### Open a separate bash window and run the following command, typing in your IoT Hub and device ID."
   ]
  },
  {
   "cell_type": "raw",
   "metadata": {},
   "source": [
    "az iot hub monitor-events --hub-name HUB NAME --device-id DEVICE_ID --properties app"
   ]
  }
 ],
 "metadata": {
  "authors": [
   {
    "name": "paledger"
   }
  ],
  "kernelspec": {
   "display_name": "Python 3",
   "language": "python",
   "name": "python3"
  },
  "language_info": {
   "codemirror_mode": {
    "name": "ipython",
    "version": 3
   },
   "file_extension": ".py",
   "mimetype": "text/x-python",
   "name": "python",
   "nbconvert_exporter": "python",
   "pygments_lexer": "ipython3",
   "version": "3.5.6"
  }
 },
 "nbformat": 4,
 "nbformat_minor": 2
}
