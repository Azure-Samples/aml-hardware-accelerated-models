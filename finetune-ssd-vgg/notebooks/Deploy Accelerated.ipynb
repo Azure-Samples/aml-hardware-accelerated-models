{
 "cells": [
  {
   "cell_type": "markdown",
   "metadata": {},
   "source": [
    "## Deploy SSD-VGG Model as Web Service on FPGA"
   ]
  },
  {
   "cell_type": "code",
   "execution_count": null,
   "metadata": {},
   "outputs": [],
   "source": [
    "%load_ext autoreload\n",
    "%autoreload 2\n",
    "\n",
    "import os, sys\n",
    "import tensorflow as tf\n",
    "import azureml\n",
    "\n",
    "import warnings\n",
    "warnings.filterwarnings('ignore')\n",
    "\n",
    "sys.path.insert(0, os.path.abspath(\"../tfssd\"))\n",
    "from tfutil import endpoints\n",
    "from finetune.model_saver import SaverVggSsd"
   ]
  },
  {
   "cell_type": "markdown",
   "metadata": {},
   "source": [
    "### Restore AzureML workspace & register Model"
   ]
  },
  {
   "cell_type": "code",
   "execution_count": null,
   "metadata": {},
   "outputs": [],
   "source": [
    "from azureml.core import Workspace\n",
    "\n",
    "ws = Workspace.from_config()\n",
    "print(ws.name, ws.resource_group, ws.location, ws.subscription_id, sep = '\\n')"
   ]
  },
  {
   "cell_type": "code",
   "execution_count": null,
   "metadata": {},
   "outputs": [],
   "source": [
    "from azureml.core.model import Model\n",
    "from azureml.core.image import Image\n",
    "from azureml.accel import AccelOnnxConverter\n",
    "from azureml.accel import AccelContainerImage\n",
    "from os.path import expanduser\n",
    "\n",
    "\n",
    "model_ckpt_dir = expanduser(\"~/azml_ssd_vgg\")\n",
    "model_name = r'ssdvgg-fpga'\n",
    "model_save_path = os.path.join(model_ckpt_dir, model_name)\n",
    "\n",
    "# model_save_path should NOT exist prior to saving the model\n",
    "not os.path.exists(model_save_path)"
   ]
  },
  {
   "cell_type": "code",
   "execution_count": null,
   "metadata": {},
   "outputs": [],
   "source": [
    "with SaverVggSsd(model_ckpt_dir) as saver:\n",
    "    saver.save_for_deployment(model_save_path)\n",
    "    "
   ]
  },
  {
   "cell_type": "code",
   "execution_count": null,
   "metadata": {},
   "outputs": [],
   "source": [
    "# Register model\n",
    "registered_model = Model.register(workspace = ws,\n",
    "                              model_path = model_save_path,\n",
    "                              model_name = model_name)\n",
    "\n",
    "print(\"Successfully registered: \", registered_model.name, registered_model.description, registered_model.version, '\\n', sep = '\\t')"
   ]
  },
  {
   "cell_type": "markdown",
   "metadata": {},
   "source": [
    "### Convert inference model to ONNX format"
   ]
  },
  {
   "cell_type": "code",
   "execution_count": null,
   "metadata": {
    "scrolled": true
   },
   "outputs": [],
   "source": [
    "#Convert the TensorFlow graph to the Open Neural Network Exchange format (ONNX). \n",
    "\n",
    "input_tensor = saver.input_name_str\n",
    "output_tensors_str = \",\".join(saver.output_names)\n",
    "\n",
    "# Convert model\n",
    "convert_request = AccelOnnxConverter.convert_tf_model(ws, registered_model, input_tensor, output_tensors_str)\n",
    "\n",
    "# If it fails, you can run wait_for_completion again with show_output=True.\n",
    "convert_request.wait_for_completion(show_output=True)\n",
    "converted_model = convert_request.result\n",
    "\n",
    "print(\"\\nSuccessfully converted: \", converted_model.name, converted_model.url, converted_model.version, \n",
    "      converted_model.id, converted_model.created_time, '\\n')"
   ]
  },
  {
   "cell_type": "markdown",
   "metadata": {},
   "source": [
    "### Create Docker Image"
   ]
  },
  {
   "cell_type": "code",
   "execution_count": null,
   "metadata": {},
   "outputs": [],
   "source": [
    "\n",
    "image_config = AccelContainerImage.image_configuration()\n",
    "\n",
    "# Image name must be lowercase\n",
    "image_name = \"{}-image\".format(model_name)\n",
    "\n",
    "image = Image.create(name = image_name,\n",
    "                     models = [converted_model],\n",
    "                     image_config = image_config, \n",
    "                     workspace = ws)\n",
    "image.wait_for_creation(show_output=True)\n",
    "\n",
    "# List the images by tag and get the detailed logs for any debugging.\n",
    "print(\"Created AccelContainerImage: {} {} {}\\n\".format(image.name, image.creation_state, image.image_location))"
   ]
  },
  {
   "cell_type": "markdown",
   "metadata": {},
   "source": [
    "### Deploy to the cloud"
   ]
  },
  {
   "cell_type": "code",
   "execution_count": null,
   "metadata": {},
   "outputs": [],
   "source": [
    "#Create a new Azure Kubernetes Service\n",
    "\n",
    "from azureml.core.compute import AksCompute, ComputeTarget\n",
    "\n",
    "# Uses the specific FPGA enabled VM (sku: Standard_PB6s)\n",
    "# Standard_PB6s are available in: eastus, westus2, westeurope, southeastasia\n",
    "prov_config = AksCompute.provisioning_configuration(vm_size = \"Standard_PB6s\",\n",
    "                                                    agent_count = 1, \n",
    "                                                    location = \"westus2\")\n",
    "\n",
    "aks_name = 'aks-pb6-obj'\n",
    "\n",
    "# Create the cluster\n",
    "aks_target = ComputeTarget.create(workspace = ws, \n",
    "                                  name = aks_name, \n",
    "                                  provisioning_configuration = prov_config)"
   ]
  },
  {
   "cell_type": "code",
   "execution_count": null,
   "metadata": {},
   "outputs": [],
   "source": [
    "# Monitor deployment\n",
    "aks_target.wait_for_completion(show_output=True)\n",
    "print(aks_target.provisioning_state)\n",
    "print(aks_target.provisioning_errors)"
   ]
  },
  {
   "cell_type": "code",
   "execution_count": null,
   "metadata": {},
   "outputs": [],
   "source": [
    "from azureml.core.webservice import Webservice, AksWebservice\n",
    "\n",
    "# Set the web service configuration (for creating a test service, we don't want autoscale enabled)\n",
    "# Authentication is enabled by default, but for testing we specify False\n",
    "aks_config = AksWebservice.deploy_configuration(autoscale_enabled=False,\n",
    "                                                num_replicas=1,\n",
    "                                                auth_enabled = False)\n",
    "\n",
    "aks_service_name ='fpga-aks-service'\n",
    "\n",
    "aks_service = Webservice.deploy_from_image(workspace = ws,\n",
    "                                           name = aks_service_name,\n",
    "                                           image = image,\n",
    "                                           deployment_config = aks_config,\n",
    "                                           deployment_target = aks_target)\n",
    "aks_service.wait_for_deployment(show_output = True)\n"
   ]
  },
  {
   "cell_type": "markdown",
   "metadata": {},
   "source": [
    "### Test the cloud service "
   ]
  },
  {
   "cell_type": "code",
   "execution_count": null,
   "metadata": {},
   "outputs": [],
   "source": [
    "# Using the grpc client in AzureML Accelerated Models SDK\n",
    "from azureml.accel import PredictionClient\n",
    "\n",
    "address = aks_service.scoring_uri\n",
    "ssl_enabled = address.startswith(\"https\")\n",
    "address = address[address.find('/')+2:].strip('/')\n",
    "port = 443 if ssl_enabled else 80\n",
    "print(f\"address={address}, port={port}, ssl={ssl_enabled}, name={aks_service.name}\")"
   ]
  },
  {
   "cell_type": "code",
   "execution_count": null,
   "metadata": {},
   "outputs": [],
   "source": [
    "# Initialize AzureML Accelerated Models client\n",
    "client = PredictionClient(address=address,\n",
    "                          port=port,\n",
    "                          use_ssl=ssl_enabled,\n",
    "                          service_name=aks_service.name)"
   ]
  },
  {
   "cell_type": "code",
   "execution_count": null,
   "metadata": {},
   "outputs": [],
   "source": [
    "from tfutil import visualization\n",
    "output_tensors = saver.output_names"
   ]
  },
  {
   "cell_type": "markdown",
   "metadata": {},
   "source": [
    "### Visualize prediction using the deployed model"
   ]
  },
  {
   "cell_type": "code",
   "execution_count": null,
   "metadata": {},
   "outputs": [],
   "source": [
    "import glob\n",
    "import matplotlib as plt\n",
    "import cv2\n",
    "\n",
    "# Select an example image to test.  \n",
    "# Default directory is the image_dir created in the Finetune VGG SSD notebook.\n",
    "\n",
    "image_dir = expanduser(\"~/azml_ssd_vgg/JPEGImages\")\n",
    "\n",
    "im_files = glob.glob(os.path.join(image_dir, '*.jpg'))\n",
    "\n",
    "im_file = im_files[0]\n",
    "\n",
    "\n",
    "import azureml.accel._external.ssdvgg_utils as ssdvgg_utils\n",
    "\n",
    "result = client.score_file(path=im_file, \n",
    "                           input_name=saver.input_name_str, \n",
    "                           outputs=output_tensors)\n",
    "\n",
    "classes, scores, bboxes = ssdvgg_utils.postprocess(result, select_threshold=0.5)\n",
    "\n",
    "plt.rcParams['figure.figsize'] = 15, 15\n",
    "img = cv2.imread(im_file)\n",
    "img = cv2.cvtColor(img, cv2.COLOR_BGR2RGB)\n",
    "visualization.plt_bboxes(img, classes, scores, bboxes)"
   ]
  },
  {
   "cell_type": "markdown",
   "metadata": {},
   "source": [
    "### Clean up image (optional)"
   ]
  },
  {
   "cell_type": "code",
   "execution_count": null,
   "metadata": {},
   "outputs": [],
   "source": [
    "#Delete your web service, image, and model (must be done in this order since there are dependencies).\n",
    "\n",
    "#aks_service.delete()\n",
    "#aks_target.delete()\n",
    "#image.delete()\n",
    "#registered_model.delete()\n",
    "#converted_model.delete()"
   ]
  },
  {
   "cell_type": "code",
   "execution_count": null,
   "metadata": {},
   "outputs": [],
   "source": []
  }
 ],
 "metadata": {
  "authors": [
   {
    "name": "v-borisk"
   },
   {
    "name": "v-zaper"
   }
  ],
  "kernelspec": {
   "display_name": "python 3.6  brain",
   "language": "python",
   "name": "brain"
  },
  "language_info": {
   "codemirror_mode": {
    "name": "ipython",
    "version": 3
   },
   "file_extension": ".py",
   "mimetype": "text/x-python",
   "name": "python",
   "nbconvert_exporter": "python",
   "pygments_lexer": "ipython3",
   "version": "3.6.8"
  }
 },
 "nbformat": 4,
 "nbformat_minor": 2
}
